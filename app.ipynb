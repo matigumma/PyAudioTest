{
 "cells": [
  {
   "cell_type": "code",
   "execution_count": null,
   "metadata": {},
   "outputs": [],
   "source": [
    "# !pip install gTTS\n",
    "# !pip install playsound\n",
    "# !pip3 install PyObjC\n",
    "!pip install -r requirements.txt"
   ]
  },
  {
   "cell_type": "code",
   "execution_count": null,
   "metadata": {},
   "outputs": [],
   "source": [
    "from gtts import gTTS\n",
    "from playsound import playsound\n",
    "\n",
    "\n",
    "lang=\"es\"\n",
    "\n",
    "text=\"si ya lo compre, carita feliz :)\"\n",
    "\n",
    "speech = gTTS(text=text, lang=lang, slow=False, tld=\"us\")\n",
    "\n",
    "speech.save(\"audio.mp3\")\n",
    "\n",
    "playsound(\"audio.mp3\")"
   ]
  },
  {
   "cell_type": "code",
   "execution_count": null,
   "metadata": {},
   "outputs": [],
   "source": [
    "# prueba con pyttsx3\n",
    "!pip install pyttsx3"
   ]
  },
  {
   "cell_type": "code",
   "execution_count": null,
   "metadata": {},
   "outputs": [],
   "source": [
    "# import pyttsx3\n",
    "\n",
    "# engine = pyttsx3.init()\n",
    "\n",
    "# voice_id = \"spanish-latin-am\"\n",
    "\n",
    "# engine.setProperty('voice', voice_id)\n",
    "\n",
    "# rate = engine.getProperty('rate')\n",
    "\n",
    "# engine.setProperty('rate', rate-50)\n",
    "\n",
    "\n",
    "# engine.say(text)\n",
    "\n",
    "# engine.runAndAwait()\n"
   ]
  },
  {
   "cell_type": "code",
   "execution_count": 38,
   "metadata": {},
   "outputs": [
    {
     "data": {
      "text/plain": [
       "0"
      ]
     },
     "execution_count": 38,
     "metadata": {},
     "output_type": "execute_result"
    }
   ],
   "source": [
    "# mac os\n",
    "import os\n",
    "text=\"metele que tenemos hambre\"\n",
    "os.system(f\"say {text}\")"
   ]
  }
 ],
 "metadata": {
  "kernelspec": {
   "display_name": "Python 3",
   "language": "python",
   "name": "python3"
  },
  "language_info": {
   "codemirror_mode": {
    "name": "ipython",
    "version": 3
   },
   "file_extension": ".py",
   "mimetype": "text/x-python",
   "name": "python",
   "nbconvert_exporter": "python",
   "pygments_lexer": "ipython3",
   "version": "3.10.12"
  },
  "orig_nbformat": 4
 },
 "nbformat": 4,
 "nbformat_minor": 2
}
